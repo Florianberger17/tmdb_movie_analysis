{
 "cells": [
  {
   "cell_type": "markdown",
   "metadata": {},
   "source": [
    "# Project: TMDb Data Analysis\n",
    "\n",
    "## Table of Contents\n",
    "<ul>\n",
    "<li><a href=\"#intro\">Introduction</a></li>\n",
    "<li><a href=\"#wrangling\">Data Wrangling</a></li>\n",
    "<li><a href=\"#eda\">Exploratory Data Analysis</a></li>\n",
    "<li><a href=\"#limitations\">Limitations</a></li>\n",
    "<li><a href=\"#conclusions\">Conclusions</a></li>\n",
    "</ul>"
   ]
  },
  {
   "cell_type": "markdown",
   "metadata": {},
   "source": [
    "<a id='intro'></a>\n",
    "## Introduction\n",
    "The Movie Database (TMDb) is community based movie and TV database with a large breadth of data. The dataset that has been selected for this project contains iformation like ratings and revenues of about 10.000 movies stored in the TMDb.\n",
    "\n",
    "\n",
    "Subsequently you'll find the research questions to be answered within this project.\n",
    "\n",
    "*Q1:* Which **characteristics** are **most important** in order to predict the **quality** (rating) of a movie?\n",
    "\n",
    "*Q2:* Movies from **which budget range** generate the **highest profit**?\n",
    "\n",
    "*Q3:* Do **overlength movies** (>120min) generate **higher profits** than regular lenght movies?\n",
    "\n",
    "*Q4:* Has the **popularity of movies** from certain **genres changed over the timespan of ten years** (2005-2015)?\n"
   ]
  },
  {
   "cell_type": "code",
   "execution_count": 73,
   "metadata": {},
   "outputs": [],
   "source": [
    "# Before starting into the actual data analysis process, the necessary libraries and packages are imported\n",
    "import pandas as pd\n",
    "import numpy as np\n",
    "import matplotlib.pyplot as plt\n",
    "\n",
    "%matplotlib inline"
   ]
  },
  {
   "cell_type": "markdown",
   "metadata": {},
   "source": [
    "<a id='wrangling'></a>\n",
    "## Data Wrangling\n",
    "Subsequently the steps 'a. Gather', 'b. Asses' and 'c. Clean' of the Data Analysis Process are performed for the project data. Goal of thise phase is understanding the respective data and bringing it into a state in which further analysis can be conducted.\n",
    "\n",
    "### a. Gather\n",
    "First step is to access the process data, so the dataset with the project data is generated from a csv-file."
   ]
  },
  {
   "cell_type": "code",
   "execution_count": 74,
   "metadata": {},
   "outputs": [],
   "source": [
    "# Loading csv file as data frame and inspecting first samples in dataset\n",
    "df = pd.read_csv('tmdb-movies.csv')"
   ]
  },
  {
   "cell_type": "markdown",
   "metadata": {},
   "source": [
    "### b. Assess\n",
    "In order to sufficiently understand the project data, the shape, rows and columens as well as the datatypes and mean values are examined."
   ]
  },
  {
   "cell_type": "code",
   "execution_count": 75,
   "metadata": {},
   "outputs": [
    {
     "data": {
      "text/plain": [
       "(10866, 21)"
      ]
     },
     "execution_count": 75,
     "metadata": {},
     "output_type": "execute_result"
    }
   ],
   "source": [
    "# Shape of the data frame\n",
    "df.shape"
   ]
  },
  {
   "cell_type": "code",
   "execution_count": 76,
   "metadata": {},
   "outputs": [
    {
     "name": "stdout",
     "output_type": "stream",
     "text": [
      "<class 'pandas.core.frame.DataFrame'>\n",
      "RangeIndex: 10866 entries, 0 to 10865\n",
      "Data columns (total 21 columns):\n",
      " #   Column                Non-Null Count  Dtype  \n",
      "---  ------                --------------  -----  \n",
      " 0   id                    10866 non-null  int64  \n",
      " 1   imdb_id               10856 non-null  object \n",
      " 2   popularity            10866 non-null  float64\n",
      " 3   budget                10866 non-null  int64  \n",
      " 4   revenue               10866 non-null  int64  \n",
      " 5   original_title        10866 non-null  object \n",
      " 6   cast                  10790 non-null  object \n",
      " 7   homepage              2936 non-null   object \n",
      " 8   director              10822 non-null  object \n",
      " 9   tagline               8042 non-null   object \n",
      " 10  keywords              9373 non-null   object \n",
      " 11  overview              10862 non-null  object \n",
      " 12  runtime               10866 non-null  int64  \n",
      " 13  genres                10843 non-null  object \n",
      " 14  production_companies  9836 non-null   object \n",
      " 15  release_date          10866 non-null  object \n",
      " 16  vote_count            10866 non-null  int64  \n",
      " 17  vote_average          10866 non-null  float64\n",
      " 18  release_year          10866 non-null  int64  \n",
      " 19  budget_adj            10866 non-null  float64\n",
      " 20  revenue_adj           10866 non-null  float64\n",
      "dtypes: float64(4), int64(6), object(11)\n",
      "memory usage: 1.3+ MB\n"
     ]
    }
   ],
   "source": [
    "# Number of samples, column labels, null-values and units\n",
    "df.info()"
   ]
  },
  {
   "cell_type": "code",
   "execution_count": 77,
   "metadata": {},
   "outputs": [
    {
     "name": "stdout",
     "output_type": "stream",
     "text": [
      "imdb_id <class 'str'>\n",
      "original_title <class 'str'>\n",
      "cast <class 'str'>\n",
      "homepage <class 'str'>\n",
      "director <class 'str'>\n",
      "tagline <class 'str'>\n",
      "keywords <class 'str'>\n",
      "overview <class 'str'>\n",
      "genres <class 'str'>\n",
      "production_companies <class 'str'>\n",
      "release_date <class 'str'>\n"
     ]
    }
   ],
   "source": [
    "# Checking if units of all objects is 'str'\n",
    "obj_labels = ['imdb_id','original_title','cast','homepage','director','tagline','keywords','overview','genres','production_companies','release_date']\n",
    "for c in obj_labels:\n",
    "   print(c, type(df[c][0]))"
   ]
  },
  {
   "cell_type": "code",
   "execution_count": 78,
   "metadata": {},
   "outputs": [
    {
     "data": {
      "text/html": [
       "<div>\n",
       "<style scoped>\n",
       "    .dataframe tbody tr th:only-of-type {\n",
       "        vertical-align: middle;\n",
       "    }\n",
       "\n",
       "    .dataframe tbody tr th {\n",
       "        vertical-align: top;\n",
       "    }\n",
       "\n",
       "    .dataframe thead th {\n",
       "        text-align: right;\n",
       "    }\n",
       "</style>\n",
       "<table border=\"1\" class=\"dataframe\">\n",
       "  <thead>\n",
       "    <tr style=\"text-align: right;\">\n",
       "      <th></th>\n",
       "      <th>id</th>\n",
       "      <th>popularity</th>\n",
       "      <th>budget</th>\n",
       "      <th>revenue</th>\n",
       "      <th>runtime</th>\n",
       "      <th>vote_count</th>\n",
       "      <th>vote_average</th>\n",
       "      <th>release_year</th>\n",
       "      <th>budget_adj</th>\n",
       "      <th>revenue_adj</th>\n",
       "    </tr>\n",
       "  </thead>\n",
       "  <tbody>\n",
       "    <tr>\n",
       "      <th>count</th>\n",
       "      <td>10866.000000</td>\n",
       "      <td>10866.000000</td>\n",
       "      <td>1.086600e+04</td>\n",
       "      <td>1.086600e+04</td>\n",
       "      <td>10866.000000</td>\n",
       "      <td>10866.000000</td>\n",
       "      <td>10866.000000</td>\n",
       "      <td>10866.000000</td>\n",
       "      <td>1.086600e+04</td>\n",
       "      <td>1.086600e+04</td>\n",
       "    </tr>\n",
       "    <tr>\n",
       "      <th>mean</th>\n",
       "      <td>66064.177434</td>\n",
       "      <td>0.646441</td>\n",
       "      <td>1.462570e+07</td>\n",
       "      <td>3.982332e+07</td>\n",
       "      <td>102.070863</td>\n",
       "      <td>217.389748</td>\n",
       "      <td>5.974922</td>\n",
       "      <td>2001.322658</td>\n",
       "      <td>1.755104e+07</td>\n",
       "      <td>5.136436e+07</td>\n",
       "    </tr>\n",
       "    <tr>\n",
       "      <th>std</th>\n",
       "      <td>92130.136561</td>\n",
       "      <td>1.000185</td>\n",
       "      <td>3.091321e+07</td>\n",
       "      <td>1.170035e+08</td>\n",
       "      <td>31.381405</td>\n",
       "      <td>575.619058</td>\n",
       "      <td>0.935142</td>\n",
       "      <td>12.812941</td>\n",
       "      <td>3.430616e+07</td>\n",
       "      <td>1.446325e+08</td>\n",
       "    </tr>\n",
       "    <tr>\n",
       "      <th>min</th>\n",
       "      <td>5.000000</td>\n",
       "      <td>0.000065</td>\n",
       "      <td>0.000000e+00</td>\n",
       "      <td>0.000000e+00</td>\n",
       "      <td>0.000000</td>\n",
       "      <td>10.000000</td>\n",
       "      <td>1.500000</td>\n",
       "      <td>1960.000000</td>\n",
       "      <td>0.000000e+00</td>\n",
       "      <td>0.000000e+00</td>\n",
       "    </tr>\n",
       "    <tr>\n",
       "      <th>25%</th>\n",
       "      <td>10596.250000</td>\n",
       "      <td>0.207583</td>\n",
       "      <td>0.000000e+00</td>\n",
       "      <td>0.000000e+00</td>\n",
       "      <td>90.000000</td>\n",
       "      <td>17.000000</td>\n",
       "      <td>5.400000</td>\n",
       "      <td>1995.000000</td>\n",
       "      <td>0.000000e+00</td>\n",
       "      <td>0.000000e+00</td>\n",
       "    </tr>\n",
       "    <tr>\n",
       "      <th>50%</th>\n",
       "      <td>20669.000000</td>\n",
       "      <td>0.383856</td>\n",
       "      <td>0.000000e+00</td>\n",
       "      <td>0.000000e+00</td>\n",
       "      <td>99.000000</td>\n",
       "      <td>38.000000</td>\n",
       "      <td>6.000000</td>\n",
       "      <td>2006.000000</td>\n",
       "      <td>0.000000e+00</td>\n",
       "      <td>0.000000e+00</td>\n",
       "    </tr>\n",
       "    <tr>\n",
       "      <th>75%</th>\n",
       "      <td>75610.000000</td>\n",
       "      <td>0.713817</td>\n",
       "      <td>1.500000e+07</td>\n",
       "      <td>2.400000e+07</td>\n",
       "      <td>111.000000</td>\n",
       "      <td>145.750000</td>\n",
       "      <td>6.600000</td>\n",
       "      <td>2011.000000</td>\n",
       "      <td>2.085325e+07</td>\n",
       "      <td>3.369710e+07</td>\n",
       "    </tr>\n",
       "    <tr>\n",
       "      <th>max</th>\n",
       "      <td>417859.000000</td>\n",
       "      <td>32.985763</td>\n",
       "      <td>4.250000e+08</td>\n",
       "      <td>2.781506e+09</td>\n",
       "      <td>900.000000</td>\n",
       "      <td>9767.000000</td>\n",
       "      <td>9.200000</td>\n",
       "      <td>2015.000000</td>\n",
       "      <td>4.250000e+08</td>\n",
       "      <td>2.827124e+09</td>\n",
       "    </tr>\n",
       "  </tbody>\n",
       "</table>\n",
       "</div>"
      ],
      "text/plain": [
       "                  id    popularity        budget       revenue       runtime  \\\n",
       "count   10866.000000  10866.000000  1.086600e+04  1.086600e+04  10866.000000   \n",
       "mean    66064.177434      0.646441  1.462570e+07  3.982332e+07    102.070863   \n",
       "std     92130.136561      1.000185  3.091321e+07  1.170035e+08     31.381405   \n",
       "min         5.000000      0.000065  0.000000e+00  0.000000e+00      0.000000   \n",
       "25%     10596.250000      0.207583  0.000000e+00  0.000000e+00     90.000000   \n",
       "50%     20669.000000      0.383856  0.000000e+00  0.000000e+00     99.000000   \n",
       "75%     75610.000000      0.713817  1.500000e+07  2.400000e+07    111.000000   \n",
       "max    417859.000000     32.985763  4.250000e+08  2.781506e+09    900.000000   \n",
       "\n",
       "         vote_count  vote_average  release_year    budget_adj   revenue_adj  \n",
       "count  10866.000000  10866.000000  10866.000000  1.086600e+04  1.086600e+04  \n",
       "mean     217.389748      5.974922   2001.322658  1.755104e+07  5.136436e+07  \n",
       "std      575.619058      0.935142     12.812941  3.430616e+07  1.446325e+08  \n",
       "min       10.000000      1.500000   1960.000000  0.000000e+00  0.000000e+00  \n",
       "25%       17.000000      5.400000   1995.000000  0.000000e+00  0.000000e+00  \n",
       "50%       38.000000      6.000000   2006.000000  0.000000e+00  0.000000e+00  \n",
       "75%      145.750000      6.600000   2011.000000  2.085325e+07  3.369710e+07  \n",
       "max     9767.000000      9.200000   2015.000000  4.250000e+08  2.827124e+09  "
      ]
     },
     "execution_count": 78,
     "metadata": {},
     "output_type": "execute_result"
    }
   ],
   "source": [
    "# Short glimps on general values for the dataset columns\n",
    "df.describe()"
   ]
  },
  {
   "cell_type": "markdown",
   "metadata": {},
   "source": [
    "### Data Cleaning\n",
    "In the Cleaning phase potential problemns in the provided dataset are idtentified and subsequently solved. The data is brought into a state from which further analysis can be conducted."
   ]
  },
  {
   "cell_type": "markdown",
   "metadata": {},
   "source": [
    "**I.** The columns which are not needed in order to answert the in the introduction created questions, are dropped from the dataset"
   ]
  },
  {
   "cell_type": "code",
   "execution_count": 79,
   "metadata": {},
   "outputs": [],
   "source": [
    "# REMOVING COLUMNS not necessary to answer defined questions\n",
    "df.drop(['imdb_id','budget','revenue','cast','homepage','director', 'tagline', 'keywords','overview','production_companies', 'release_date'], axis=1, inplace=True)\n",
    "\n",
    "# 'budget' and 'revenue' dropbed for comparability - 'budget_adj' and 'revenue_adj' more suitable"
   ]
  },
  {
   "cell_type": "markdown",
   "metadata": {},
   "source": [
    "**II.** Duplicates in the are detected and droped from the dataframe"
   ]
  },
  {
   "cell_type": "code",
   "execution_count": 80,
   "metadata": {},
   "outputs": [
    {
     "data": {
      "text/plain": [
       "0"
      ]
     },
     "execution_count": 80,
     "metadata": {},
     "output_type": "execute_result"
    }
   ],
   "source": [
    "# REMOVING DUPLICATES\n",
    "# Checking for duplicates\n",
    "df.duplicated().sum()\n",
    "\n",
    "# Which row in the dataset is the duplicate?\n",
    "df.loc[df.duplicated()==True]\n",
    "\n",
    "#Drop the duplicate\n",
    "df.drop_duplicates(inplace=True)\n",
    "\n",
    "#Checking for duplicates again\n",
    "df.duplicated().sum()"
   ]
  },
  {
   "cell_type": "markdown",
   "metadata": {},
   "source": [
    "**III.** For comparability reasons only the columns 'budget_adj' and 'revenue_adj' with values for which the inlflation is accounted for are going to be used for the furher analysis. To provide easier access these columns get their labels changed to 'budget' and 'revenue'."
   ]
  },
  {
   "cell_type": "code",
   "execution_count": 81,
   "metadata": {},
   "outputs": [],
   "source": [
    "# RENAME COLUMNS 'budget_adj' and 'revenue_adj'\n",
    "df.rename(columns={'budget_adj':'budget','revenue_adj':'revenue'}, inplace=True)"
   ]
  },
  {
   "cell_type": "markdown",
   "metadata": {},
   "source": [
    "**IV.** Rows 'budget' and 'revenue' contain float values. In order to make handling in these columns easier and saving memory space, the type for these columns is changed to integer."
   ]
  },
  {
   "cell_type": "code",
   "execution_count": 82,
   "metadata": {},
   "outputs": [],
   "source": [
    "# CHANGE DATA TYPE TO INT\n",
    "df.budget = df.budget.astype(int)\n",
    "df.revenue = df.revenue.astype(int)"
   ]
  },
  {
   "cell_type": "markdown",
   "metadata": {},
   "source": [
    "**V.** Some rows contain the value '0' or sometimes even negative values in the columns 'budget' and 'revenue' . Apparently this is due to missing data, as there can't be any movies without a budget and a revenue. To make sure that the movies with missing data don't falsify any further analysis, these rows are deleted from the dataset."
   ]
  },
  {
   "cell_type": "code",
   "execution_count": 83,
   "metadata": {},
   "outputs": [
    {
     "name": "stdout",
     "output_type": "stream",
     "text": [
      "popularity    0\n",
      "dtype: int64\n",
      "runtime    31\n",
      "dtype: int64\n",
      "vote_count    0\n",
      "dtype: int64\n",
      "release_year    0\n",
      "dtype: int64\n",
      "budget    5698\n",
      "dtype: int64\n",
      "revenue    6020\n",
      "dtype: int64\n"
     ]
    }
   ],
   "source": [
    "# Checking if information is missing (=0) or is false (negative value) in columns with int or float values\n",
    "labels = ['popularity','runtime','vote_count','release_year','budget','revenue']\n",
    "\n",
    "for c in labels:\n",
    "    print(df.loc[df[c] <= 0,[c]].count())\n",
    "    \n",
    "# -> There are samples with missing or false information in the columns 'runtime', 'budget' and 'revenue'"
   ]
  },
  {
   "cell_type": "code",
   "execution_count": 84,
   "metadata": {},
   "outputs": [],
   "source": [
    "# Deleting rows with missing or false data\n",
    "labels = ['runtime','budget','revenue']\n",
    "\n",
    "for c in labels:\n",
    "    df = df[df[c] > 0]"
   ]
  },
  {
   "cell_type": "code",
   "execution_count": 85,
   "metadata": {},
   "outputs": [
    {
     "data": {
      "text/plain": [
       "(3849, 10)"
      ]
     },
     "execution_count": 85,
     "metadata": {},
     "output_type": "execute_result"
    }
   ],
   "source": [
    "# Checking shape of the dataframe after deleting the rows\n",
    "df.shape"
   ]
  },
  {
   "cell_type": "markdown",
   "metadata": {},
   "source": [
    "After removing unnecessary information, adapting datatypes and removing duplicates as well as missing and false information from the dataset, the next phase of the data analysis process can be started."
   ]
  },
  {
   "cell_type": "markdown",
   "metadata": {},
   "source": [
    "<a id='eda'></a>\n",
    "## Exploratory Data Analysis\n",
    "Within the exploration phase, general patterns in the data are detected, relationships between the data visualized. Subsequently specific analysis to answert the in the introduction created questions will be conducted.\n",
    "\n",
    "### Question 1: What characteristics are associated with a high quality (rating) movie?\n",
    "To answer this question, it has to be specified how the group of 'high quality movies' is defined. Following the 'high quality movies' are defined by movies whith an average rating exceeding the 3rd quantile value (75%) of the 'vote_average' column."
   ]
  },
  {
   "cell_type": "markdown",
   "metadata": {},
   "source": [
    "**I.** We have to make sure, that the 'vote_count' for each movie is sufficiently high to allow a statement about the movie's quality. Also a short visual crosscheck about the values from 'vote_average' is to be conducted."
   ]
  },
  {
   "cell_type": "code",
   "execution_count": 86,
   "metadata": {},
   "outputs": [
    {
     "data": {
      "text/plain": [
       "count    3849.000000\n",
       "mean      523.545336\n",
       "std       866.281871\n",
       "min        10.000000\n",
       "25%        71.000000\n",
       "50%       204.000000\n",
       "75%       576.000000\n",
       "max      9767.000000\n",
       "Name: vote_count, dtype: float64"
      ]
     },
     "execution_count": 86,
     "metadata": {},
     "output_type": "execute_result"
    }
   ],
   "source": [
    "# Checking if values for 'vote_count' are reliable\n",
    "df.vote_count.describe()"
   ]
  },
  {
   "cell_type": "markdown",
   "metadata": {},
   "source": [
    "The minimum value for 'vote-count' with 10 (10 people who rated the quality of a movie) is sufficiently high to use all of these elemens for futher analyisis."
   ]
  },
  {
   "cell_type": "code",
   "execution_count": 87,
   "metadata": {},
   "outputs": [
    {
     "data": {
      "image/png": "[encoded data removed]",
      "text/plain": [
       "<Figure size 360x360 with 1 Axes>"
      ]
     },
     "metadata": {
      "needs_background": "light"
     },
     "output_type": "display_data"
    }
   ],
   "source": [
    "df.vote_count.hist(figsize=(5,5));\n",
    "plt.title('Histogram for column \"vote_counts\"')\n",
    "plt.xlabel('vote_counts')\n",
    "plt.ylabel('Frequency');"
   ]
  },
  {
   "cell_type": "code",
   "execution_count": 88,
   "metadata": {},
   "outputs": [
    {
     "data": {
      "text/plain": [
       "count    3849.000000\n",
       "mean        6.167134\n",
       "std         0.794297\n",
       "min         2.200000\n",
       "25%         5.700000\n",
       "50%         6.200000\n",
       "75%         6.700000\n",
       "max         8.400000\n",
       "Name: vote_average, dtype: float64"
      ]
     },
     "execution_count": 88,
     "metadata": {},
     "output_type": "execute_result"
    }
   ],
   "source": [
    "# Check general statistics for 'vote_average'\n",
    "df.vote_average.describe()"
   ]
  },
  {
   "cell_type": "code",
   "execution_count": 89,
   "metadata": {},
   "outputs": [
    {
     "data": {
      "image/png": "[encoded data removed]",
      "text/plain": [
       "<Figure size 360x360 with 1 Axes>"
      ]
     },
     "metadata": {
      "needs_background": "light"
     },
     "output_type": "display_data"
    }
   ],
   "source": [
    "df.vote_average.hist(figsize=(5,5));\n",
    "plt.title('Histogram for column \"vote_average\"')\n",
    "plt.xlabel('vote_average')\n",
    "plt.ylabel('Frequency');"
   ]
  },
  {
   "cell_type": "markdown",
   "metadata": {},
   "source": [
    "The distribution of 'vote_average' seems to be left-skewed."
   ]
  },
  {
   "cell_type": "markdown",
   "metadata": {},
   "source": [
    "**II.** In order to create a new dataframe with the samples exceeding the 3rd quantile (75%) of the 'average-rating' column a query-function is used."
   ]
  },
  {
   "cell_type": "code",
   "execution_count": 90,
   "metadata": {},
   "outputs": [],
   "source": [
    "# Split database according to 3rd quantile\n",
    "top = df.query('vote_average > vote_average.quantile(0.75)')"
   ]
  },
  {
   "cell_type": "code",
   "execution_count": 91,
   "metadata": {},
   "outputs": [
    {
     "name": "stdout",
     "output_type": "stream",
     "text": [
      "popularity 1.9\n",
      "vote_average 7.18\n",
      "runtime 118\n",
      "release_year 1998\n",
      "budget 44270598\n",
      "revenue 211815133\n"
     ]
    }
   ],
   "source": [
    "# Identifying characteristics for 'high quality movie'\n",
    "labels_float = ['popularity','vote_average']\n",
    "for c in labels_float:\n",
    "    print(c, top[c].mean().round(2))\n",
    "    \n",
    "labels_int = ['runtime','release_year','budget','revenue']\n",
    "for c in labels_int:\n",
    "    print(c, top[c].mean().astype(int))"
   ]
  },
  {
   "cell_type": "markdown",
   "metadata": {},
   "source": [
    "The characteristics of a high quality movie are given with the above stated mean-values for the columns of our dataset."
   ]
  },
  {
   "cell_type": "markdown",
   "metadata": {},
   "source": [
    "### Question 2: Movies from which budget range generate he highest profit?\n",
    "To answer this question budget classes have to be defined. Values chosen to seperate the classes are minimum, the first quantile, the 2nd quantile, the 3rd quantile and the maximum of the column 'budget'."
   ]
  },
  {
   "cell_type": "markdown",
   "metadata": {},
   "source": [
    "**I.** In order to compare the profits of movies, a new dataframe with a profit-column and respective values (profit = revenue - profit) has to be created."
   ]
  },
  {
   "cell_type": "code",
   "execution_count": 92,
   "metadata": {},
   "outputs": [],
   "source": [
    "# Creating new dataframe for the analysis\n",
    "df_new = df.copy()"
   ]
  },
  {
   "cell_type": "code",
   "execution_count": 93,
   "metadata": {},
   "outputs": [],
   "source": [
    "# Creating new column for profit values in data frame\n",
    "profit = np.zeros(3849)\n",
    "df_new['profit'] = profit"
   ]
  },
  {
   "cell_type": "code",
   "execution_count": 94,
   "metadata": {},
   "outputs": [],
   "source": [
    "# Calculating and inserting the profit for every movie in the data frame\n",
    "df_new['profit'] = df_new['revenue'] - df_new['budget']"
   ]
  },
  {
   "cell_type": "markdown",
   "metadata": {},
   "source": [
    "**II.** Now the budget classes are created with the min, max and quantile-values as limits of the classes."
   ]
  },
  {
   "cell_type": "code",
   "execution_count": 95,
   "metadata": {},
   "outputs": [
    {
     "data": {
      "text/plain": [
       "count    3.849000e+03\n",
       "mean     4.414380e+07\n",
       "std      4.456966e+07\n",
       "min      1.000000e+00\n",
       "25%      1.309053e+07\n",
       "50%      3.001558e+07\n",
       "75%      6.061307e+07\n",
       "max      4.250000e+08\n",
       "Name: budget, dtype: float64"
      ]
     },
     "execution_count": 95,
     "metadata": {},
     "output_type": "execute_result"
    }
   ],
   "source": [
    "# Check general values for column 'budget'\n",
    "df_new.budget.describe()"
   ]
  },
  {
   "cell_type": "code",
   "execution_count": 96,
   "metadata": {},
   "outputs": [
    {
     "data": {
      "image/png": "[encoded data removed]",
      "text/plain": [
       "<Figure size 360x360 with 1 Axes>"
      ]
     },
     "metadata": {
      "needs_background": "light"
     },
     "output_type": "display_data"
    }
   ],
   "source": [
    "df_new.budget.hist(figsize=(5,5));\n",
    "plt.title('Histogram for column \"budget\"')\n",
    "plt.xlabel('budget')\n",
    "plt.ylabel('Frequency');"
   ]
  },
  {
   "cell_type": "code",
   "execution_count": 97,
   "metadata": {},
   "outputs": [],
   "source": [
    "# Defining budget-classes and inserting it into dataframe\n",
    "bin_edges = [df.budget.min(),df.budget.quantile(0.25),df.budget.quantile(0.5),df.budget.quantile(0.75),df.budget.max()]\n",
    "bin_names = ['low','medium','moderately high','high']\n",
    "df_new['budget_class'] = pd.cut(df_new['budget'], bin_edges, labels = bin_names)"
   ]
  },
  {
   "cell_type": "code",
   "execution_count": 98,
   "metadata": {},
   "outputs": [
    {
     "data": {
      "text/html": [
       "<div>\n",
       "<style scoped>\n",
       "    .dataframe tbody tr th:only-of-type {\n",
       "        vertical-align: middle;\n",
       "    }\n",
       "\n",
       "    .dataframe tbody tr th {\n",
       "        vertical-align: top;\n",
       "    }\n",
       "\n",
       "    .dataframe thead th {\n",
       "        text-align: right;\n",
       "    }\n",
       "</style>\n",
       "<table border=\"1\" class=\"dataframe\">\n",
       "  <thead>\n",
       "    <tr style=\"text-align: right;\">\n",
       "      <th></th>\n",
       "      <th>id</th>\n",
       "      <th>popularity</th>\n",
       "      <th>original_title</th>\n",
       "      <th>runtime</th>\n",
       "      <th>genres</th>\n",
       "      <th>vote_count</th>\n",
       "      <th>vote_average</th>\n",
       "      <th>release_year</th>\n",
       "      <th>budget</th>\n",
       "      <th>revenue</th>\n",
       "      <th>profit</th>\n",
       "      <th>budget_class</th>\n",
       "    </tr>\n",
       "  </thead>\n",
       "  <tbody>\n",
       "    <tr>\n",
       "      <th>0</th>\n",
       "      <td>135397</td>\n",
       "      <td>32.985763</td>\n",
       "      <td>Jurassic World</td>\n",
       "      <td>124</td>\n",
       "      <td>Action|Adventure|Science Fiction|Thriller</td>\n",
       "      <td>5562</td>\n",
       "      <td>6.5</td>\n",
       "      <td>2015</td>\n",
       "      <td>137999939</td>\n",
       "      <td>1392445892</td>\n",
       "      <td>1254445953</td>\n",
       "      <td>high</td>\n",
       "    </tr>\n",
       "  </tbody>\n",
       "</table>\n",
       "</div>"
      ],
      "text/plain": [
       "       id  popularity  original_title  runtime  \\\n",
       "0  135397   32.985763  Jurassic World      124   \n",
       "\n",
       "                                      genres  vote_count  vote_average  \\\n",
       "0  Action|Adventure|Science Fiction|Thriller        5562           6.5   \n",
       "\n",
       "   release_year     budget     revenue      profit budget_class  \n",
       "0          2015  137999939  1392445892  1254445953         high  "
      ]
     },
     "execution_count": 98,
     "metadata": {},
     "output_type": "execute_result"
    }
   ],
   "source": [
    "# Checking that new columns an values are in dataframe\n",
    "df_new.head(1)"
   ]
  },
  {
   "cell_type": "code",
   "execution_count": 99,
   "metadata": {},
   "outputs": [
    {
     "data": {
      "text/plain": [
       "budget_class\n",
       "low                 31777342.5\n",
       "medium              57052731.2\n",
       "moderately high     82571062.6\n",
       "high               190585706.2\n",
       "Name: profit, dtype: float64"
      ]
     },
     "execution_count": 99,
     "metadata": {},
     "output_type": "execute_result"
    }
   ],
   "source": [
    "# Group by 'budget_classes' and show values for 'profit'\n",
    "df_new.groupby('budget_class').profit.mean().round(1)"
   ]
  },
  {
   "cell_type": "code",
   "execution_count": 100,
   "metadata": {},
   "outputs": [
    {
     "data": {
      "image/png": "[encoded data removed]",
      "text/plain": [
       "<Figure size 432x288 with 1 Axes>"
      ]
     },
     "metadata": {
      "needs_background": "light"
     },
     "output_type": "display_data"
    }
   ],
   "source": [
    "# Creating bar diagram with mean profit values for different budget classes\n",
    "locations_q2 = bin_names\n",
    "heights_q2 = []\n",
    "for c in bin_names:\n",
    "    heights_q2.append(df_new.groupby('budget_class').profit.mean().round(1)[c])\n",
    "    \n",
    "\n",
    "plt.bar(locations_q2, heights_q2)\n",
    "plt.title('Mean profit according to budget class')\n",
    "plt.xlabel('budget class')\n",
    "plt.ylabel('Mean profit');"
   ]
  },
  {
   "cell_type": "markdown",
   "metadata": {},
   "source": [
    "The diagram shows the mean profit values for the defined budget classes."
   ]
  },
  {
   "cell_type": "markdown",
   "metadata": {},
   "source": [
    "### Question 3: Do overlength movies (>120min) generate higher profits than regular lenght movies?\n",
    "For providing an answert to this question overlength movies are defined as data with a value higher than 120 in the 'runtime'-column."
   ]
  },
  {
   "cell_type": "markdown",
   "metadata": {},
   "source": [
    "**I.** A check of the relevant values for the 'runtime'-column is performed."
   ]
  },
  {
   "cell_type": "code",
   "execution_count": 101,
   "metadata": {},
   "outputs": [
    {
     "data": {
      "text/plain": [
       "count    3849.000000\n",
       "mean      109.183164\n",
       "std        19.866223\n",
       "min        15.000000\n",
       "25%        95.000000\n",
       "50%       105.000000\n",
       "75%       119.000000\n",
       "max       338.000000\n",
       "Name: runtime, dtype: float64"
      ]
     },
     "execution_count": 101,
     "metadata": {},
     "output_type": "execute_result"
    }
   ],
   "source": [
    "# Overlenght is defined as >120 min\n",
    "df.runtime.describe()"
   ]
  },
  {
   "cell_type": "code",
   "execution_count": 102,
   "metadata": {},
   "outputs": [
    {
     "data": {
      "image/png": "[encoded data removed]",
      "text/plain": [
       "<Figure size 360x360 with 1 Axes>"
      ]
     },
     "metadata": {
      "needs_background": "light"
     },
     "output_type": "display_data"
    }
   ],
   "source": [
    "df.runtime.hist(figsize=(5,5));\n",
    "plt.title('Histogram for column \"runtime\"')\n",
    "plt.xlabel('runtime')\n",
    "plt.ylabel('Frequency');"
   ]
  },
  {
   "cell_type": "markdown",
   "metadata": {},
   "source": [
    "**II.** Next the dataframe from question 2 (profit column already implemented) is split into two new dataframes according to the values >120 and <= 120 in the 'runtime' column."
   ]
  },
  {
   "cell_type": "code",
   "execution_count": 103,
   "metadata": {},
   "outputs": [],
   "source": [
    "# Creating two dfs with overlength data and normal length data\n",
    "over_len = df_new.query('runtime > 120')\n",
    "normal_len = df_new.query('runtime <= 120')"
   ]
  },
  {
   "cell_type": "code",
   "execution_count": 104,
   "metadata": {},
   "outputs": [
    {
     "name": "stdout",
     "output_type": "stream",
     "text": [
      "68395947.3 164640280.9\n"
     ]
    }
   ],
   "source": [
    "# Calculating mean profit values for runtime-length classes\n",
    "print(normal_len.profit.mean().round(1), over_len.profit.mean().round(1))"
   ]
  },
  {
   "cell_type": "code",
   "execution_count": 105,
   "metadata": {},
   "outputs": [
    {
     "data": {
      "image/png": "[encoded data removed]",
      "text/plain": [
       "<Figure size 432x288 with 1 Axes>"
      ]
     },
     "metadata": {
      "needs_background": "light"
     },
     "output_type": "display_data"
    }
   ],
   "source": [
    "# Creating bar diagramm with results\n",
    "locations_q3 = ['Normal (<=120min)', 'overlength (>120min)']\n",
    "heights_q3 = [normal_len.profit.mean(), over_len.profit.mean()]\n",
    "\n",
    "plt.bar(locations_q3, heights_q3)\n",
    "plt.title('Mean profit according to movie length')\n",
    "plt.xlabel('Movie length')\n",
    "plt.ylabel('Mean profit');"
   ]
  },
  {
   "cell_type": "markdown",
   "metadata": {},
   "source": [
    "The diagram shows the mean profit value for movies with normal lengt (<=120 min) and overlength (>120min)."
   ]
  },
  {
   "cell_type": "markdown",
   "metadata": {},
   "source": [
    "### Question 4: Has the popularity of movies from certain genres changed over the timespan of ten years (2005-2015)?\n",
    "An element in the column 'genres' contains different genres a movie is assigned to. Within the string the different genres are seperated by '|'. In order to do further analysis and answer this question one row should only hold one genre-string."
   ]
  },
  {
   "cell_type": "markdown",
   "metadata": {},
   "source": [
    "**I.** The different categories from the column 'genres' have to be seperated and be put into single rows. This is done by creating a help-dataframe an merging it with the dataframe from question 1."
   ]
  },
  {
   "cell_type": "code",
   "execution_count": 106,
   "metadata": {},
   "outputs": [],
   "source": [
    "# A help-dataframe is created with only one genre-category in each row and the 'id'-identifier for each row\n",
    "df_help = pd.DataFrame(df.genres.str.split('|').tolist(), index=df.id).stack()\n",
    "df_help = df_help.reset_index([0, 'id'])\n",
    "df_help.columns = ['id', 'genres']"
   ]
  },
  {
   "cell_type": "code",
   "execution_count": 107,
   "metadata": {},
   "outputs": [],
   "source": [
    "# The help-dataframe is merged with the regular dataframe according to the column 'id'\n",
    "df1 = df_help.merge(df, left_on='id', right_on='id', how='inner')"
   ]
  },
  {
   "cell_type": "markdown",
   "metadata": {},
   "source": [
    "**II.** By merging the tow dataframes according to 'id', two columns 'genres_y' and 'genres_x' have been created. Following the column 'genres_y' is droped from the data frame to prevent confusion in future operations."
   ]
  },
  {
   "cell_type": "code",
   "execution_count": 108,
   "metadata": {},
   "outputs": [],
   "source": [
    "# Drop 'genres_y' and rename 'genres_x'\n",
    "df1.drop(['genres_y'], axis=1, inplace=True)\n",
    "df1 = df1.rename(columns={'genres_x':'genres'})"
   ]
  },
  {
   "cell_type": "markdown",
   "metadata": {},
   "source": [
    "**III.** Now the dataframe is separated into two dataframes according to the release year of the movies."
   ]
  },
  {
   "cell_type": "code",
   "execution_count": 109,
   "metadata": {},
   "outputs": [
    {
     "name": "stdout",
     "output_type": "stream",
     "text": [
      "(2280, 10) (2185, 10)\n"
     ]
    }
   ],
   "source": [
    "# Differentiate movies from 2005 to 2009 and 2010 to 2014\n",
    "df_10 = df1.query('release_year==[\"2005\",\"2006\",\"2007\",\"2008\",\"2009\"]')\n",
    "df_15 = df1.query('release_year==[\"2010\",\"2011\",\"2012\",\"2013\",\"2014\"]')\n",
    "\n",
    "print(df_10.shape, df_15.shape)"
   ]
  },
  {
   "cell_type": "markdown",
   "metadata": {},
   "source": [
    "**IV.** In order to get the changes in popularity, the mean values for the two dataframes are built and their difference is calculated."
   ]
  },
  {
   "cell_type": "code",
   "execution_count": 110,
   "metadata": {},
   "outputs": [],
   "source": [
    "# get mean popularity for genres\n",
    "pop_10 = df_10.groupby('genres').mean()['popularity']\n",
    "pop_15 = df_15.groupby('genres').mean()['popularity']"
   ]
  },
  {
   "cell_type": "code",
   "execution_count": 111,
   "metadata": {},
   "outputs": [
    {
     "name": "stdout",
     "output_type": "stream",
     "text": [
      "genres\n",
      "Action             0.83\n",
      "Adventure          1.29\n",
      "Animation          0.20\n",
      "Comedy             0.35\n",
      "Crime              0.38\n",
      "Documentary        0.04\n",
      "Drama              0.41\n",
      "Family             0.30\n",
      "Fantasy            0.74\n",
      "Foreign            0.06\n",
      "History            0.65\n",
      "Horror             0.22\n",
      "Music              0.24\n",
      "Mystery            0.69\n",
      "Romance            0.22\n",
      "Science Fiction    1.46\n",
      "Thriller           0.45\n",
      "War                0.86\n",
      "Western            0.87\n",
      "Name: popularity, dtype: float64\n"
     ]
    }
   ],
   "source": [
    "# Get difference fromt 2015 to 2010\n",
    "pop_diff = pop_15 - pop_10\n",
    "pop_diff = pop_diff.round(2).abs()\n",
    "\n",
    "print(pop_diff)"
   ]
  },
  {
   "cell_type": "markdown",
   "metadata": {},
   "source": [
    "**V.** For visualization reasons the changes in popularity to be shown in a diagram are limited to the five most prominent changes."
   ]
  },
  {
   "cell_type": "code",
   "execution_count": 112,
   "metadata": {},
   "outputs": [],
   "source": [
    "# Limiting the results to the five largest changes in popularity\n",
    "pop_diff_max = pop_diff.nlargest(5)"
   ]
  },
  {
   "cell_type": "code",
   "execution_count": 113,
   "metadata": {},
   "outputs": [
    {
     "data": {
      "text/plain": [
       "Text(0, 0.5, 'Mean popularity change')"
      ]
     },
     "execution_count": 113,
     "metadata": {},
     "output_type": "execute_result"
    },
    {
     "data": {
      "image/png": "[encoded data removed]",
      "text/plain": [
       "<Figure size 432x288 with 1 Axes>"
      ]
     },
     "metadata": {
      "needs_background": "light"
     },
     "output_type": "display_data"
    }
   ],
   "source": [
    "# Creating bar diagram\n",
    "heights = list(pop_diff_max)\n",
    "location = pop_diff_max.index.tolist()\n",
    "\n",
    "plt.bar(location, heights)\n",
    "plt.title('Five largest changes in mean popularity per genre')\n",
    "plt.xlabel('Genre')\n",
    "plt.ylabel('Mean popularity change')"
   ]
  },
  {
   "cell_type": "markdown",
   "metadata": {
    "collapsed": true
   },
   "source": [
    "The diagram shows the changes in mean popularity of movie genres between the periods 2005 - 2009 and 2010 - 2014.\n"
   ]
  },
  {
   "cell_type": "markdown",
   "metadata": {},
   "source": [
    "<a id='limitations'></a>\n",
    "## Limitations\n",
    "\n",
    "Concerning the provided TMDb dataset there were limitations which influenced the creation of research questions which could be covered within this project and influenced the quality of the conducted analysis.\n",
    "\n",
    "- **Currentness of data:** The movies with the most recent release date in the dataset have been released in the year 2015. Because of this it was not possible to deduce any insight about developments in the movie sector in the recent years (2016 - 2020). The curentness of data also led to a revision of the research question 4 which was originally designed to cover the timespan from 2010 to the year 2020.\n",
    "\n",
    "- **Completeness of data:** Only about 35% of the original data samples showed the necessary quality to be used within the exploration phase of this project. Data cleaning measures in the form of removing duplicates as well as samples with missing or false values (eg. negative values) have been conducted. However the possibility of false entries in the dataset (eg. transposed digits within the 'budget' or 'revenue' column ) which influence the results of this project can't be excluded with 100 precent certainty."
   ]
  },
  {
   "cell_type": "markdown",
   "metadata": {},
   "source": [
    "<a id='conclusions'></a>\n",
    "## Conclusions\n",
    "\n",
    "Following the colunclusions according to the questions created within the chapter 'introduction'.\n",
    "\n",
    "### Question 1: What characteristics are associated with a high quality (rating) movie?\n",
    "A high quality movie as defined has a mean popularity-rating of '1.9', an average quality rating of '7.18' a runtime of '118 minutes and is released in the year '1998'. It has a budget of '44,270,598' dollars (based on 2010 dollars) and a mean revenue of '211,815,133' dollars (based on 2010 dollars).\n",
    "\n",
    "\n",
    "### Question 2: Movies from which budget range generate he highest profit?\n",
    "Movies from the low-budget class generate a mean profit of '31,777,342.5', from the medium-budget-class of '57,052,731.2', from the moderately-high-budget class of '82,571,062.6' and from the high-budget class of '190,585,706.2', all values based on 2010 dollars.\n",
    "\n",
    "Apparently movies with a high budget also make the highest mean profit. This finding isn't very surprising, as more money is allocated to marketing and the movies are presented in more cinemas than the lower budget movies. From a movie director's or rather producer's view it could be interesting to see, if the revenue/budget ratio is higher for low-budget movies or high-budget movies. This aspect could be covered in future analysis.\n",
    "\n",
    "### Question 3: Do overlength movies (>120min) generate higher profits than regular lenght movies?\n",
    "Movies with a length <120 min generate a mean profit of 68,395,947.3 dollars, while movies with a length of >120min generate a mean profit of 164,640,280.9 dollars, based on 2010 dollars.\n",
    "\n",
    "Apparently movies with overlength also make higher profits. This isn't very surprising as propably also the invested budget for overlength movies is significantly higher than for regular movies. It could be interesting to also further organize the findings in budget classes to incease the information value. As stated in the conclusion from question 2 further analysis would be helpful to better understand the generated results.\n",
    "\n",
    "### Question 4: Has the popularity of movies from certain genres changed over the timespan of ten years (2005-2015)?\n",
    "The five highest mean changes according to the popularity rating from timespan 1 (2005-2009) to timespan 2 (2010-2014) were in the genres Science Fiction by 1.46, Adventure by 1.29, Western Genre by 0.87, War by 0.86 and Action by 1.29. All of those genres show a mean increase in popularity.\n",
    "\n",
    "Obviously there have been changes in popularity for all movie genres over the regarded timespans. However currently we don't know what causes these changes. Has more money been allocated to movies from  certain genres in recent years? Are certain genres slowly but certainly dying out? Originating from this results there are different approaches to further analyze the reasons for the detected changes."
   ]
  }
 ],
 "metadata": {
  "kernelspec": {
   "display_name": "Python 3",
   "language": "python",
   "name": "python3"
  },
  "language_info": {
   "codemirror_mode": {
    "name": "ipython",
    "version": 3
   },
   "file_extension": ".py",
   "mimetype": "text/x-python",
   "name": "python",
   "nbconvert_exporter": "python",
   "pygments_lexer": "ipython3",
   "version": "3.8.2"
  }
 },
 "nbformat": 4,
 "nbformat_minor": 2
}
